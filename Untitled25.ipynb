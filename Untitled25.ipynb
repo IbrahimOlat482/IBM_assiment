{
  "nbformat": 4,
  "nbformat_minor": 0,
  "metadata": {
    "colab": {
      "provenance": []
    },
    "kernelspec": {
      "name": "python3",
      "display_name": "Python 3"
    },
    "language_info": {
      "name": "python"
    }
  },
  "cells": [
    {
      "cell_type": "markdown",
      "source": [
        "# Peer-graded Assignment"
      ],
      "metadata": {
        "id": "Kk0OktN-XH9S"
      }
    },
    {
      "cell_type": "markdown",
      "source": [
        "##This is an introduction for IBM Data Science certificate"
      ],
      "metadata": {
        "id": "7zLdpauDX3lE"
      }
    },
    {
      "cell_type": "markdown",
      "source": [
        "#Data Science languages\n",
        "## python\n",
        "##scala\n",
        "##sql\n",
        "##R"
      ],
      "metadata": {
        "id": "uq2B6PMQYeyh"
      }
    },
    {
      "cell_type": "markdown",
      "source": [
        "#data science libraries\n",
        "##numpy\n",
        "##pandas\n",
        "##sklearn\n",
        "##pytorch\n",
        "##tensorflow"
      ],
      "metadata": {
        "id": "NRc_fXYmZLPV"
      }
    },
    {
      "cell_type": "markdown",
      "source": [
        "#Data Science tools\n",
        "##Rstudo\n",
        "##jupyter notebook\n",
        "##ibm watson studio\n",
        "##imb data refinary"
      ],
      "metadata": {
        "id": "STwQFh_PZkfx"
      }
    },
    {
      "cell_type": "markdown",
      "source": [
        "# Arithmetic Expression Examples\n",
        "## Addition: `2 + 3 = 5`\n",
        "## Subtraction: `10 - 5 = 5`\n",
        "## Multiplication: `3 * 4 = 12`\n",
        "## Division: `10 / 2 = 5`\n"
      ],
      "metadata": {
        "id": "6nZQpeT7aOAd"
      }
    },
    {
      "cell_type": "code",
      "source": [
        "# Multiplication\n",
        "a = 2\n",
        "b = 3\n",
        "c = a * b\n",
        "print(c)\n",
        "\n",
        "# Addition\n",
        "x = 10\n",
        "y = 5\n",
        "z = x + y\n",
        "print(z)"
      ],
      "metadata": {
        "colab": {
          "base_uri": "https://localhost:8080/"
        },
        "id": "FMJF_dEcbAin",
        "outputId": "68ba9e3e-f08e-4cec-e560-01f51d13c785"
      },
      "execution_count": 3,
      "outputs": [
        {
          "output_type": "stream",
          "name": "stdout",
          "text": [
            "6\n",
            "15\n"
          ]
        }
      ]
    },
    {
      "cell_type": "code",
      "source": [
        "minutes = 90\n",
        "hours = minutes / 60\n",
        "print(hours)"
      ],
      "metadata": {
        "colab": {
          "base_uri": "https://localhost:8080/"
        },
        "id": "EcLae6YgbEIU",
        "outputId": "1db86e2f-3bad-404b-d74e-ce823fc88f91"
      },
      "execution_count": 4,
      "outputs": [
        {
          "output_type": "stream",
          "name": "stdout",
          "text": [
            "1.5\n"
          ]
        }
      ]
    },
    {
      "cell_type": "markdown",
      "source": [
        "* Objectives\n",
        "* \n",
        "* \n",
        "* \n",
        "* \n",
        "*"
      ],
      "metadata": {
        "id": "CL0A4LpTblYC"
      }
    },
    {
      "cell_type": "markdown",
      "source": [
        "# Ibrahim Olaimat"
      ],
      "metadata": {
        "id": "xXC4gGSYb6_1"
      }
    }
  ]
}